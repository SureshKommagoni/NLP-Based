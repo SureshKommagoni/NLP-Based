{
 "cells": [
  {
   "cell_type": "code",
   "execution_count": 1,
   "metadata": {},
   "outputs": [],
   "source": [
    "import requests   # Importing requests to extract content from a url\n",
    "from bs4 import BeautifulSoup  # Beautifulsoup is for web scrapping...used to scrap specific content \n",
    "import re \n",
    "\n",
    "import pandas as pd\n",
    "import matplotlib.pyplot as plt\n",
    "from wordcloud import WordCloud\n"
   ]
  },
  {
   "cell_type": "code",
   "execution_count": 2,
   "metadata": {},
   "outputs": [],
   "source": [
    "url = \"https://www.amazon.in/OnePlus-inches-Smart-Android-43Y1/product-reviews/B08B42HNH7/ref=cm_cr_dp_d_show_all_btm?ie=UTF8&reviewerType=all_reviews\"\n",
    "response = requests.get(url)\n",
    "soup = BeautifulSoup(response.text, 'html.parser')"
   ]
  },
  {
   "cell_type": "code",
   "execution_count": 3,
   "metadata": {},
   "outputs": [],
   "source": [
    "reviewlist = []"
   ]
  },
  {
   "cell_type": "code",
   "execution_count": 4,
   "metadata": {},
   "outputs": [],
   "source": [
    "def get_soup(url):\n",
    "    response = requests.get(url)\n",
    "    soup = BeautifulSoup(response.text, 'html.parser')\n",
    "    return soup"
   ]
  },
  {
   "cell_type": "code",
   "execution_count": 5,
   "metadata": {},
   "outputs": [
    {
     "name": "stdout",
     "output_type": "stream",
     "text": [
      "Amazon.in:Customer reviews: OnePlus 108 cm (43 inches) Y Series Full HD LED Smart Android TV 43Y1 (Black) (2020 Model)\n"
     ]
    }
   ],
   "source": [
    "reviews = soup.find_all('div', {'data-hook': 'review'})\n",
    "print(soup.title.text)"
   ]
  },
  {
   "cell_type": "code",
   "execution_count": 9,
   "metadata": {},
   "outputs": [],
   "source": [
    "def get_reviews(soup):\n",
    "    reviews = soup.find_all('div', {'data-hook': 'review'})\n",
    "    try:\n",
    "        for item in reviews:\n",
    "            review = {\n",
    "            'product': soup.title.text.replace('Amazon.in:Customer reviews:', '').strip(),\n",
    "            'title': item.find('a', {'data-hook': 'review-title'}).text.strip(),\n",
    "            'rating': float(item.find('i', {'data-hook': 'review-star-rating'}).text.replace('out of 5 stars', '').strip()),\n",
    "            'body': item.find('span', {'data-hook': 'review-body'}).text.strip(),\n",
    "            }\n",
    "            reviewlist.append(review)\n",
    "    except:\n",
    "        pass\n",
    "    \n",
    "for x in range(1, 600):\n",
    "    soup = get_soup(f'https://www.amazon.in/OnePlus-inches-Smart-Android-43Y1/product-reviews/B08B42HNH7/ref=cm_cr_arp_d_paging_btm_next_2?ie=UTF8&reviewerType=all_reviews&pageNumber={x}')\n",
    "    get_reviews(soup)\n",
    "    #print(len(reviewlist))\n",
    "    if not soup.find('li', {'class': 'a-disabled a-last'}):\n",
    "        pass\n",
    "    else:\n",
    "        break"
   ]
  },
  {
   "cell_type": "code",
   "execution_count": 10,
   "metadata": {
    "scrolled": true
   },
   "outputs": [
    {
     "data": {
      "text/html": [
       "<div>\n",
       "<style scoped>\n",
       "    .dataframe tbody tr th:only-of-type {\n",
       "        vertical-align: middle;\n",
       "    }\n",
       "\n",
       "    .dataframe tbody tr th {\n",
       "        vertical-align: top;\n",
       "    }\n",
       "\n",
       "    .dataframe thead th {\n",
       "        text-align: right;\n",
       "    }\n",
       "</style>\n",
       "<table border=\"1\" class=\"dataframe\">\n",
       "  <thead>\n",
       "    <tr style=\"text-align: right;\">\n",
       "      <th></th>\n",
       "      <th>product</th>\n",
       "      <th>title</th>\n",
       "      <th>rating</th>\n",
       "      <th>body</th>\n",
       "    </tr>\n",
       "  </thead>\n",
       "  <tbody>\n",
       "    <tr>\n",
       "      <th>0</th>\n",
       "      <td>OnePlus 108 cm (43 inches) Y Series Full HD LE...</td>\n",
       "      <td>Replacement received from Amazon and it's work...</td>\n",
       "      <td>4.0</td>\n",
       "      <td>The media could not be loaded.\\n              ...</td>\n",
       "    </tr>\n",
       "    <tr>\n",
       "      <th>1</th>\n",
       "      <td>OnePlus 108 cm (43 inches) Y Series Full HD LE...</td>\n",
       "      <td>Cinematic picture quality with low quality sou...</td>\n",
       "      <td>4.0</td>\n",
       "      <td>TV is beautiful with minute bezels.I was pleas...</td>\n",
       "    </tr>\n",
       "    <tr>\n",
       "      <th>2</th>\n",
       "      <td>OnePlus 108 cm (43 inches) Y Series Full HD LE...</td>\n",
       "      <td>Y DIS Y series?</td>\n",
       "      <td>1.0</td>\n",
       "      <td>ere is my experience with the Oneplus LAGGY tv...</td>\n",
       "    </tr>\n",
       "    <tr>\n",
       "      <th>3</th>\n",
       "      <td>OnePlus 108 cm (43 inches) Y Series Full HD LE...</td>\n",
       "      <td>Contrast Ratio, Viewing Angle, Colours, All Good.</td>\n",
       "      <td>5.0</td>\n",
       "      <td>I will be brief here.Unboxing:No wall Mount.No...</td>\n",
       "    </tr>\n",
       "    <tr>\n",
       "      <th>4</th>\n",
       "      <td>OnePlus 108 cm (43 inches) Y Series Full HD LE...</td>\n",
       "      <td>Best Budget TV</td>\n",
       "      <td>5.0</td>\n",
       "      <td>After 10 days usage :1. Display is good not be...</td>\n",
       "    </tr>\n",
       "    <tr>\n",
       "      <th>...</th>\n",
       "      <td>...</td>\n",
       "      <td>...</td>\n",
       "      <td>...</td>\n",
       "      <td>...</td>\n",
       "    </tr>\n",
       "    <tr>\n",
       "      <th>5785</th>\n",
       "      <td>OnePlus 108 cm (43 inches) Y Series Full HD LE...</td>\n",
       "      <td>Awesome</td>\n",
       "      <td>5.0</td>\n",
       "      <td>Excellent</td>\n",
       "    </tr>\n",
       "    <tr>\n",
       "      <th>5786</th>\n",
       "      <td>OnePlus 108 cm (43 inches) Y Series Full HD LE...</td>\n",
       "      <td>Worth every penny</td>\n",
       "      <td>5.0</td>\n",
       "      <td>All good</td>\n",
       "    </tr>\n",
       "    <tr>\n",
       "      <th>5787</th>\n",
       "      <td>OnePlus 108 cm (43 inches) Y Series Full HD LE...</td>\n",
       "      <td>Awesome</td>\n",
       "      <td>5.0</td>\n",
       "      <td>Very good</td>\n",
       "    </tr>\n",
       "    <tr>\n",
       "      <th>5788</th>\n",
       "      <td>OnePlus 108 cm (43 inches) Y Series Full HD LE...</td>\n",
       "      <td>Quality</td>\n",
       "      <td>4.0</td>\n",
       "      <td>Only the besals are not good</td>\n",
       "    </tr>\n",
       "    <tr>\n",
       "      <th>5789</th>\n",
       "      <td>OnePlus 108 cm (43 inches) Y Series Full HD LE...</td>\n",
       "      <td>Not so good</td>\n",
       "      <td>1.0</td>\n",
       "      <td>Very low visual and sound....cheap quality</td>\n",
       "    </tr>\n",
       "  </tbody>\n",
       "</table>\n",
       "<p>5790 rows × 4 columns</p>\n",
       "</div>"
      ],
      "text/plain": [
       "                                                product  \\\n",
       "0     OnePlus 108 cm (43 inches) Y Series Full HD LE...   \n",
       "1     OnePlus 108 cm (43 inches) Y Series Full HD LE...   \n",
       "2     OnePlus 108 cm (43 inches) Y Series Full HD LE...   \n",
       "3     OnePlus 108 cm (43 inches) Y Series Full HD LE...   \n",
       "4     OnePlus 108 cm (43 inches) Y Series Full HD LE...   \n",
       "...                                                 ...   \n",
       "5785  OnePlus 108 cm (43 inches) Y Series Full HD LE...   \n",
       "5786  OnePlus 108 cm (43 inches) Y Series Full HD LE...   \n",
       "5787  OnePlus 108 cm (43 inches) Y Series Full HD LE...   \n",
       "5788  OnePlus 108 cm (43 inches) Y Series Full HD LE...   \n",
       "5789  OnePlus 108 cm (43 inches) Y Series Full HD LE...   \n",
       "\n",
       "                                                  title  rating  \\\n",
       "0     Replacement received from Amazon and it's work...     4.0   \n",
       "1     Cinematic picture quality with low quality sou...     4.0   \n",
       "2                                       Y DIS Y series?     1.0   \n",
       "3     Contrast Ratio, Viewing Angle, Colours, All Good.     5.0   \n",
       "4                                        Best Budget TV     5.0   \n",
       "...                                                 ...     ...   \n",
       "5785                                            Awesome     5.0   \n",
       "5786                                  Worth every penny     5.0   \n",
       "5787                                            Awesome     5.0   \n",
       "5788                                            Quality     4.0   \n",
       "5789                                        Not so good     1.0   \n",
       "\n",
       "                                                   body  \n",
       "0     The media could not be loaded.\\n              ...  \n",
       "1     TV is beautiful with minute bezels.I was pleas...  \n",
       "2     ere is my experience with the Oneplus LAGGY tv...  \n",
       "3     I will be brief here.Unboxing:No wall Mount.No...  \n",
       "4     After 10 days usage :1. Display is good not be...  \n",
       "...                                                 ...  \n",
       "5785                                          Excellent  \n",
       "5786                                           All good  \n",
       "5787                                          Very good  \n",
       "5788                       Only the besals are not good  \n",
       "5789         Very low visual and sound....cheap quality  \n",
       "\n",
       "[5790 rows x 4 columns]"
      ]
     },
     "execution_count": 10,
     "metadata": {},
     "output_type": "execute_result"
    }
   ],
   "source": [
    "oneplusTV_reviews = pd.DataFrame(reviewlist)\n",
    "oneplusTV_reviews"
   ]
  },
  {
   "cell_type": "code",
   "execution_count": 11,
   "metadata": {},
   "outputs": [],
   "source": [
    "oneplusTV_reviews.to_csv(\"oneplusTV_extraction_reviews.csv\")"
   ]
  },
  {
   "cell_type": "code",
   "execution_count": null,
   "metadata": {},
   "outputs": [],
   "source": []
  },
  {
   "cell_type": "code",
   "execution_count": null,
   "metadata": {},
   "outputs": [],
   "source": []
  },
  {
   "cell_type": "code",
   "execution_count": null,
   "metadata": {},
   "outputs": [],
   "source": []
  },
  {
   "cell_type": "code",
   "execution_count": null,
   "metadata": {},
   "outputs": [],
   "source": []
  }
 ],
 "metadata": {
  "kernelspec": {
   "display_name": "Python 3",
   "language": "python",
   "name": "python3"
  },
  "language_info": {
   "codemirror_mode": {
    "name": "ipython",
    "version": 3
   },
   "file_extension": ".py",
   "mimetype": "text/x-python",
   "name": "python",
   "nbconvert_exporter": "python",
   "pygments_lexer": "ipython3",
   "version": "3.7.4"
  }
 },
 "nbformat": 4,
 "nbformat_minor": 2
}
